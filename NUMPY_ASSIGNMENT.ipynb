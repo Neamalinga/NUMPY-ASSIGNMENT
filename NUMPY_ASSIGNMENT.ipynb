{
  "nbformat": 4,
  "nbformat_minor": 0,
  "metadata": {
    "colab": {
      "provenance": [],
      "authorship_tag": "ABX9TyNPUt6NMT/hqMC43nmpElrT",
      "include_colab_link": true
    },
    "kernelspec": {
      "name": "python3",
      "display_name": "Python 3"
    },
    "language_info": {
      "name": "python"
    }
  },
  "cells": [
    {
      "cell_type": "markdown",
      "metadata": {
        "id": "view-in-github",
        "colab_type": "text"
      },
      "source": [
        "<a href=\"https://colab.research.google.com/github/Neamalinga/NUMPY-ASSIGNMENT/blob/main/NUMPY_ASSIGNMENT.ipynb\" target=\"_parent\"><img src=\"https://colab.research.google.com/assets/colab-badge.svg\" alt=\"Open In Colab\"/></a>"
      ]
    },
    {
      "cell_type": "code",
      "execution_count": null,
      "metadata": {
        "id": "wlwcmqkX27D1"
      },
      "outputs": [],
      "source": [
        "#1.How do you import the NumPy library using an alias?\n",
        "import numpy as np"
      ]
    },
    {
      "cell_type": "code",
      "source": [
        "#2.How do you check the version and configuration of NumPy?\n",
        "np.__version__"
      ],
      "metadata": {
        "colab": {
          "base_uri": "https://localhost:8080/",
          "height": 36
        },
        "id": "c8Nun2Hp4RPl",
        "outputId": "1b16dfa6-48ba-43c2-8d5f-c1874af50893"
      },
      "execution_count": null,
      "outputs": [
        {
          "output_type": "execute_result",
          "data": {
            "text/plain": [
              "'2.0.2'"
            ],
            "application/vnd.google.colaboratory.intrinsic+json": {
              "type": "string"
            }
          },
          "metadata": {},
          "execution_count": 2
        }
      ]
    },
    {
      "cell_type": "code",
      "source": [
        "#3.How do you create a vector filled with zeros of size 10?\n",
        "np.zeros(10)"
      ],
      "metadata": {
        "colab": {
          "base_uri": "https://localhost:8080/"
        },
        "id": "9mwbGUSw4kWB",
        "outputId": "1700d6fc-6eef-42cd-edf9-c55013f14ad9"
      },
      "execution_count": null,
      "outputs": [
        {
          "output_type": "execute_result",
          "data": {
            "text/plain": [
              "array([0., 0., 0., 0., 0., 0., 0., 0., 0., 0.])"
            ]
          },
          "metadata": {},
          "execution_count": 3
        }
      ]
    },
    {
      "cell_type": "code",
      "metadata": {
        "colab": {
          "base_uri": "https://localhost:8080/"
        },
        "id": "307b0ca8",
        "outputId": "886f3cc1-0a2f-40f5-e10b-e5fb849aa604"
      },
      "source": [
        "# To find help/documentation for a NumPy function, you can use np.info() or np.lookfor()\n",
        "np.info(np.zeros)"
      ],
      "execution_count": null,
      "outputs": [
        {
          "output_type": "stream",
          "name": "stdout",
          "text": [
            "zeros(shape, dtype=float, order='C', *, like=None)\n",
            "\n",
            "Return a new array of given shape and type, filled with zeros.\n",
            "\n",
            "Parameters\n",
            "----------\n",
            "shape : int or tuple of ints\n",
            "    Shape of the new array, e.g., ``(2, 3)`` or ``2``.\n",
            "dtype : data-type, optional\n",
            "    The desired data-type for the array, e.g., `numpy.int8`.  Default is\n",
            "    `numpy.float64`.\n",
            "order : {'C', 'F'}, optional, default: 'C'\n",
            "    Whether to store multi-dimensional data in row-major\n",
            "    (C-style) or column-major (Fortran-style) order in\n",
            "    memory.\n",
            "like : array_like, optional\n",
            "    Reference object to allow the creation of arrays which are not\n",
            "    NumPy arrays. If an array-like passed in as ``like`` supports\n",
            "    the ``__array_function__`` protocol, the result will be defined\n",
            "    by it. In this case, it ensures the creation of an array object\n",
            "    compatible with that passed in via this argument.\n",
            "\n",
            "    .. versionadded:: 1.20.0\n",
            "\n",
            "Returns\n",
            "-------\n",
            "out : ndarray\n",
            "    Array of zeros with the given shape, dtype, and order.\n",
            "\n",
            "See Also\n",
            "--------\n",
            "zeros_like : Return an array of zeros with shape and type of input.\n",
            "empty : Return a new uninitialized array.\n",
            "ones : Return a new array setting values to one.\n",
            "full : Return a new array of given shape filled with value.\n",
            "\n",
            "Examples\n",
            "--------\n",
            ">>> np.zeros(5)\n",
            "array([ 0.,  0.,  0.,  0.,  0.])\n",
            "\n",
            ">>> np.zeros((5,), dtype=int)\n",
            "array([0, 0, 0, 0, 0])\n",
            "\n",
            ">>> np.zeros((2, 1))\n",
            "array([[ 0.],\n",
            "       [ 0.]])\n",
            "\n",
            ">>> s = (2,2)\n",
            ">>> np.zeros(s)\n",
            "array([[ 0.,  0.],\n",
            "       [ 0.,  0.]])\n",
            "\n",
            ">>> np.zeros((2,), dtype=[('x', 'i4'), ('y', 'i4')]) # custom dtype\n",
            "array([(0, 0), (0, 0)],\n",
            "      dtype=[('x', '<i4'), ('y', '<i4')])\n"
          ]
        }
      ]
    },
    {
      "cell_type": "code",
      "source": [
        "#5.How do you create a zero vector of size 10 with the fifth element as 1?\n",
        "a=np.zeros(10)\n",
        "a[4]=1\n",
        "print(a)"
      ],
      "metadata": {
        "colab": {
          "base_uri": "https://localhost:8080/"
        },
        "id": "dvEDqgLE5Usz",
        "outputId": "2c38a28e-3fbd-47c2-a14b-d2b71ca56617"
      },
      "execution_count": null,
      "outputs": [
        {
          "output_type": "stream",
          "name": "stdout",
          "text": [
            "[0. 0. 0. 0. 1. 0. 0. 0. 0. 0.]\n"
          ]
        }
      ]
    },
    {
      "cell_type": "code",
      "source": [
        "#6.How do you create a vector with values from 10 to 49?\n",
        "a=np.arange(10,49)\n",
        "print(a)\n"
      ],
      "metadata": {
        "colab": {
          "base_uri": "https://localhost:8080/"
        },
        "id": "ck6ab7jJ5iYD",
        "outputId": "74bd19a3-9aaf-4d94-c57e-f608666ff262"
      },
      "execution_count": null,
      "outputs": [
        {
          "output_type": "stream",
          "name": "stdout",
          "text": [
            "[10 11 12 13 14 15 16 17 18 19 20 21 22 23 24 25 26 27 28 29 30 31 32 33\n",
            " 34 35 36 37 38 39 40 41 42 43 44 45 46 47 48]\n"
          ]
        }
      ]
    },
    {
      "cell_type": "code",
      "source": [
        "#7.How do you reverse a vector?\n",
        "a=np.arange(10,49)\n",
        "a[::-1]"
      ],
      "metadata": {
        "colab": {
          "base_uri": "https://localhost:8080/"
        },
        "id": "C5fq46_655fW",
        "outputId": "b0198537-cb37-4578-c9f1-ad95994c451b"
      },
      "execution_count": null,
      "outputs": [
        {
          "output_type": "execute_result",
          "data": {
            "text/plain": [
              "array([48, 47, 46, 45, 44, 43, 42, 41, 40, 39, 38, 37, 36, 35, 34, 33, 32,\n",
              "       31, 30, 29, 28, 27, 26, 25, 24, 23, 22, 21, 20, 19, 18, 17, 16, 15,\n",
              "       14, 13, 12, 11, 10])"
            ]
          },
          "metadata": {},
          "execution_count": 10
        }
      ]
    },
    {
      "cell_type": "code",
      "source": [
        "#8.How do you create a 3x3 matrix with values from 0 to 8?\n",
        "np.arange(9).reshape((3,3))"
      ],
      "metadata": {
        "colab": {
          "base_uri": "https://localhost:8080/"
        },
        "id": "AytCgxwN6jv7",
        "outputId": "72c82d50-f105-4ce7-98dc-91ca4d010899"
      },
      "execution_count": null,
      "outputs": [
        {
          "output_type": "execute_result",
          "data": {
            "text/plain": [
              "array([[0, 1, 2],\n",
              "       [3, 4, 5],\n",
              "       [6, 7, 8]])"
            ]
          },
          "metadata": {},
          "execution_count": 14
        }
      ]
    },
    {
      "cell_type": "code",
      "source": [
        "#9.How do you find indices of non-zero elements in an array?\n",
        "a=np.array([1,2,0,7,0,0])\n",
        "print(np.nonzero(a))"
      ],
      "metadata": {
        "colab": {
          "base_uri": "https://localhost:8080/"
        },
        "id": "q7kiAwEg7etf",
        "outputId": "d4b5571d-384c-4326-cbf8-ffa14f670800"
      },
      "execution_count": null,
      "outputs": [
        {
          "output_type": "stream",
          "name": "stdout",
          "text": [
            "(array([0, 1, 3]),)\n"
          ]
        }
      ]
    },
    {
      "cell_type": "code",
      "source": [
        "#10.How do you create a 3x3 identity matrix?\n",
        "print(np.eye(3))"
      ],
      "metadata": {
        "colab": {
          "base_uri": "https://localhost:8080/"
        },
        "id": "s4HCwkCs8-vS",
        "outputId": "aca73304-583d-409f-c312-5acdc31c1403"
      },
      "execution_count": null,
      "outputs": [
        {
          "output_type": "stream",
          "name": "stdout",
          "text": [
            "[[1. 0. 0.]\n",
            " [0. 1. 0.]\n",
            " [0. 0. 1.]]\n"
          ]
        }
      ]
    },
    {
      "cell_type": "code",
      "source": [
        "#11.How do you generate a 3x3x3 array with random values?\n",
        "np.random.rand(3,3,3)"
      ],
      "metadata": {
        "colab": {
          "base_uri": "https://localhost:8080/"
        },
        "id": "kZunf2gw9Zku",
        "outputId": "56c0bc56-95f3-47db-84d4-42ad6dffb04f"
      },
      "execution_count": null,
      "outputs": [
        {
          "output_type": "execute_result",
          "data": {
            "text/plain": [
              "array([[[0.28507454, 0.74179465, 0.98777787],\n",
              "        [0.15397698, 0.24430372, 0.20509102],\n",
              "        [0.36830358, 0.59214134, 0.17714014]],\n",
              "\n",
              "       [[0.12237898, 0.2924724 , 0.84685855],\n",
              "        [0.62870842, 0.22829537, 0.07336161],\n",
              "        [0.1605749 , 0.70683435, 0.74529774]],\n",
              "\n",
              "       [[0.60788957, 0.41809932, 0.79969789],\n",
              "        [0.48737435, 0.01056478, 0.22907127],\n",
              "        [0.53696104, 0.8224626 , 0.6740727 ]]])"
            ]
          },
          "metadata": {},
          "execution_count": 20
        }
      ]
    },
    {
      "cell_type": "code",
      "source": [
        "#12.How do you find the min and max values in a 10x10 random matrix?\n",
        "a=np.random.rand(10,10)\n",
        "print(a.min())\n",
        "print(a.max())"
      ],
      "metadata": {
        "colab": {
          "base_uri": "https://localhost:8080/"
        },
        "id": "xpuZzkV6-qqS",
        "outputId": "1195366d-347f-4403-b681-d48af021416e"
      },
      "execution_count": null,
      "outputs": [
        {
          "output_type": "stream",
          "name": "stdout",
          "text": [
            "0.009556385575400506\n",
            "0.9984608870436349\n"
          ]
        }
      ]
    },
    {
      "cell_type": "code",
      "source": [
        "#13.How do you calculate the mean of a random vector of size 30?\n",
        "np.random.rand(30)\n",
        "np.mean(np.random.rand(30))"
      ],
      "metadata": {
        "colab": {
          "base_uri": "https://localhost:8080/"
        },
        "id": "y98N4xSk-2MW",
        "outputId": "6fc2be95-e9ad-46d8-d475-ad5d4fae4c6b"
      },
      "execution_count": null,
      "outputs": [
        {
          "output_type": "execute_result",
          "data": {
            "text/plain": [
              "np.float64(0.5790184988614094)"
            ]
          },
          "metadata": {},
          "execution_count": 22
        }
      ]
    },
    {
      "cell_type": "code",
      "metadata": {
        "colab": {
          "base_uri": "https://localhost:8080/"
        },
        "id": "0ffa3b58",
        "outputId": "f629ce3a-bea8-4d4f-e6f4-cfdbd3d3ddef"
      },
      "source": [
        "#14.How do you create a 2D array with 1s on the border and 0s inside?\n",
        "# Create a 5x5 array of ones\n",
        "a = np.ones((5, 5))\n",
        "\n",
        "# Set the inner part to zeros using slicing\n",
        "a[1:-1, 1:-1] = 0\n",
        "\n",
        "print(a)"
      ],
      "execution_count": null,
      "outputs": [
        {
          "output_type": "stream",
          "name": "stdout",
          "text": [
            "[[1. 1. 1. 1. 1.]\n",
            " [1. 0. 0. 0. 1.]\n",
            " [1. 0. 0. 0. 1.]\n",
            " [1. 0. 0. 0. 1.]\n",
            " [1. 1. 1. 1. 1.]]\n"
          ]
        }
      ]
    },
    {
      "cell_type": "code",
      "source": [
        "#15.What is the result of operations like 0 * np.nan, np.nan == np.nan, etc.?\n",
        "print(0 * np.nan)\n",
        "print(np.nan == np.nan)\n",
        "print(np.inf > np.nan)\n",
        "print(np.nan - np.nan)\n",
        "print(0.3 == 3 * 0.1)"
      ],
      "metadata": {
        "colab": {
          "base_uri": "https://localhost:8080/"
        },
        "id": "z2PjUn3bA8K-",
        "outputId": "6eb3c9d8-0566-4626-c825-9a9dfdd0bdd1"
      },
      "execution_count": null,
      "outputs": [
        {
          "output_type": "stream",
          "name": "stdout",
          "text": [
            "nan\n",
            "False\n",
            "False\n",
            "nan\n",
            "False\n"
          ]
        }
      ]
    },
    {
      "cell_type": "code",
      "source": [
        "#16.How do you create a matrix with values below the diagonal?\n",
        "import numpy as np\n",
        "arr=np.diag([1,2,3,4])\n",
        "print(arr)"
      ],
      "metadata": {
        "id": "iKitlL62BRzE",
        "colab": {
          "base_uri": "https://localhost:8080/"
        },
        "outputId": "5f68c5f0-bcf0-43b1-da0d-4666c6b9d24d"
      },
      "execution_count": null,
      "outputs": [
        {
          "output_type": "stream",
          "name": "stdout",
          "text": [
            "[[1 0 0 0]\n",
            " [0 2 0 0]\n",
            " [0 0 3 0]\n",
            " [0 0 0 4]]\n"
          ]
        }
      ]
    },
    {
      "cell_type": "code",
      "source": [
        "#17.How do you create a checkerboard pattern in an 8x8 matrix?\n",
        "import numpy as np\n",
        "\n",
        "# Create an 8x8 matrix\n",
        "checkerboard = np.zeros((8, 8), dtype=int)\n",
        "\n",
        "# Use slicing to set alternating values\n",
        "checkerboard[1::2, ::2] = 1\n",
        "checkerboard[::2, 1::2] = 1\n",
        "\n",
        "print(checkerboard)"
      ],
      "metadata": {
        "colab": {
          "base_uri": "https://localhost:8080/"
        },
        "id": "k0RuuRXGdDCC",
        "outputId": "712fb237-7d2a-469f-9aac-866abea27cad"
      },
      "execution_count": null,
      "outputs": [
        {
          "output_type": "stream",
          "name": "stdout",
          "text": [
            "[[0 1 0 1 0 1 0 1]\n",
            " [1 0 1 0 1 0 1 0]\n",
            " [0 1 0 1 0 1 0 1]\n",
            " [1 0 1 0 1 0 1 0]\n",
            " [0 1 0 1 0 1 0 1]\n",
            " [1 0 1 0 1 0 1 0]\n",
            " [0 1 0 1 0 1 0 1]\n",
            " [1 0 1 0 1 0 1 0]]\n"
          ]
        }
      ]
    },
    {
      "cell_type": "code",
      "source": [
        "#20.How do you normalize a matrix (values between 0 and 1)?\n",
        "import numpy as np\n",
        "\n",
        "#creating a matrix (5*5)with random values\n",
        " matrix = np.random.rand(5, 5) * 100\n",
        "min_value = matrix.min()\n",
        "max_value = matrix.max()\n",
        "\n",
        "Normalized_matrix = (matrix-min_value)/(max_value-min_value)\n",
        "print(Normalized_matrix)"
      ],
      "metadata": {
        "colab": {
          "base_uri": "https://localhost:8080/"
        },
        "id": "syrXZTSgib-W",
        "outputId": "6b7958c8-7415-418f-9f3d-346a6c54826e"
      },
      "execution_count": null,
      "outputs": [
        {
          "output_type": "stream",
          "name": "stdout",
          "text": [
            "[[0.96510139 0.35232789 0.88555937 0.35699346 0.93310307]\n",
            " [0.95208836 0.15447334 0.0359477  0.28264983 0.23629856]\n",
            " [0.99160611 0.13749921 0.74523435 1.         0.        ]\n",
            " [0.78346537 0.7507472  0.27017265 0.63995206 0.2176883 ]\n",
            " [0.89140984 0.69331004 0.10836022 0.76573706 0.40852098]]\n"
          ]
        }
      ]
    },
    {
      "cell_type": "code",
      "source": [
        "#21.How do you define a custom data type for storing color (RGBA)?\n",
        "import numpy as np\n",
        "\n",
        "# Define a custom data type for RGBA color\n",
        "# 'u1' is an unsigned 8-bit integer, suitable for color values (0-255)\n",
        "color_dtype = np.dtype([('R', 'u1'), ('G', 'u1'), ('B', 'u1'), ('A', 'u1')])\n",
        "\n",
        "# You can now create arrays using this custom data type\n",
        "# For example, creating an array of one RGBA color\n",
        "rgba_color = np.array([(255, 0, 0, 255)], dtype=color_dtype)\n",
        "print(rgba_color)\n",
        "\n",
        "# Creating an array of multiple RGBA colors\n",
        "rgba_colors = np.array([(255, 0, 0, 255), (0, 255, 0, 255), (0, 0, 255, 255)], dtype=color_dtype)\n",
        "print(rgba_colors)"
      ],
      "metadata": {
        "colab": {
          "base_uri": "https://localhost:8080/"
        },
        "id": "tSLpJw_fkI0x",
        "outputId": "2e3939d5-0539-49ac-d740-7433ba908976"
      },
      "execution_count": null,
      "outputs": [
        {
          "output_type": "stream",
          "name": "stdout",
          "text": [
            "[(255, 0, 0, 255)]\n",
            "[(255,   0,   0, 255) (  0, 255,   0, 255) (  0,   0, 255, 255)]\n"
          ]
        }
      ]
    },
    {
      "cell_type": "code",
      "source": [
        "#22.How do you perform a matrix multiplication between two matrices?\n",
        "import numpy as np\n",
        "\n",
        "# Create two sample matrices\n",
        "matrix1 = np.array([[1, 2], [3, 4]])\n",
        "matrix2 = np.array([[5, 6], [7, 8]])\n",
        "\n",
        "result=matrix1@matrix2\n",
        "print(result)"
      ],
      "metadata": {
        "colab": {
          "base_uri": "https://localhost:8080/"
        },
        "id": "X7tMTnAHmt31",
        "outputId": "eed0fd76-8643-4ed7-c47a-62573d98675f"
      },
      "execution_count": null,
      "outputs": [
        {
          "output_type": "stream",
          "name": "stdout",
          "text": [
            "[[19 22]\n",
            " [43 50]]\n"
          ]
        }
      ]
    },
    {
      "cell_type": "code",
      "source": [
        "#23.How do you negate values between two given numbers in a vector?\n",
        "#import numpy as np\n",
        "vector=np.array([1,2,3,4,7,9,3,11,13])\n",
        "lower_bound=3\n",
        "upper_bound=7\n",
        "\n",
        "\n",
        "res = np.array([eval('-'+str(i)) for i in vector if i>=lower_bound and i<=upper_bound])\n",
        "print(res)"
      ],
      "metadata": {
        "colab": {
          "base_uri": "https://localhost:8080/"
        },
        "id": "q3PkNCGnoYbO",
        "outputId": "077c5b73-cbe2-45f0-f3f6-c1a0c9dca2c5"
      },
      "execution_count": null,
      "outputs": [
        {
          "output_type": "stream",
          "name": "stdout",
          "text": [
            "[-3 -4 -7 -3]\n"
          ]
        }
      ]
    },
    {
      "cell_type": "code",
      "source": [
        "#24.What is the output of sum(range(5), -1) vs np.sum(range(5), -1)?\n",
        "import numpy as np\n",
        "\n",
        "\n",
        "python_sum = sum(range(5), -1)\n",
        "print(f\"Output of sum(range(5), -1): {python_sum}\"\n",
        "numpy_sum = np.sum(np.arange(5), -1)\n",
        "print(f\"Output of np.sum(np.arange(5), -1): {numpy_sum}\")"
      ],
      "metadata": {
        "colab": {
          "base_uri": "https://localhost:8080/"
        },
        "id": "_PC0ebJWq727",
        "outputId": "702d05b1-c11a-45ad-b83d-83c65525ac16"
      },
      "execution_count": null,
      "outputs": [
        {
          "output_type": "stream",
          "name": "stdout",
          "text": [
            "Output of sum(range(5), -1): 9\n",
            "Output of np.sum(np.arange(5), -1): 10\n"
          ]
        }
      ]
    },
    {
      "cell_type": "code",
      "source": [
        "#25.Which NumPy vector operations are legal or illegal?\n",
        "a=np.array([1,2,3])\n",
        "b=np.array([4,5,6])\n",
        "print(a+b)\n",
        "print(a-b)\n",
        "print(a*b)\n",
        "print(a/b)\n",
        "print(a**b)\n"
      ],
      "metadata": {
        "colab": {
          "base_uri": "https://localhost:8080/"
        },
        "id": "YkBxL4JZ20aI",
        "outputId": "ea30c7c9-0205-4e3d-bbec-4ecfcff4a3f1"
      },
      "execution_count": null,
      "outputs": [
        {
          "output_type": "stream",
          "name": "stdout",
          "text": [
            "[5 7 9]\n",
            "[-3 -3 -3]\n",
            "[ 4 10 18]\n",
            "[0.25 0.4  0.5 ]\n",
            "[  1  32 729]\n"
          ]
        }
      ]
    },
    {
      "cell_type": "code",
      "source": [
        "#26.What happens when you divide integers or floats by zero in NumPy?\n",
        "a=np.array([1,2,3,4])\n",
        "b=np.array([1.2,2.4,3.5,6.7])\n",
        "print(a/0)\n",
        "print(b/0)"
      ],
      "metadata": {
        "colab": {
          "base_uri": "https://localhost:8080/"
        },
        "id": "AsoDkyhp3X-b",
        "outputId": "2b918d75-bfdd-451e-fadf-cf1311612d10"
      },
      "execution_count": null,
      "outputs": [
        {
          "output_type": "stream",
          "name": "stdout",
          "text": [
            "[inf inf inf inf]\n",
            "[inf inf inf inf]\n"
          ]
        },
        {
          "output_type": "stream",
          "name": "stderr",
          "text": [
            "/tmp/ipython-input-3920522152.py:4: RuntimeWarning: divide by zero encountered in divide\n",
            "  print(a/0)\n",
            "/tmp/ipython-input-3920522152.py:5: RuntimeWarning: divide by zero encountered in divide\n",
            "  print(b/0)\n"
          ]
        }
      ]
    },
    {
      "cell_type": "code",
      "source": [
        "#27.How do you round a float array away from zero?\n",
        "import numpy as np\n",
        "\n",
        "# Create a sample float array\n",
        "a = np.array([-1.2, 2.4, -1.7, -7.8, 5.6\n",
        "rounded_away_from_zero = np.copysign(np.ceil(np.abs(a)), a)\n",
        "print(\"Original array:\")\n",
        "print(a)\n",
        "print(\"\\nArray rounded away from zero:\")\n",
        "print(rounded_away_from_zero)"
      ],
      "metadata": {
        "colab": {
          "base_uri": "https://localhost:8080/"
        },
        "id": "U6ue3rzi4KkR",
        "outputId": "c57832be-9af9-4195-e60a-4ef908e3806b"
      },
      "execution_count": null,
      "outputs": [
        {
          "output_type": "stream",
          "name": "stdout",
          "text": [
            "Original array:\n",
            "[-1.2  2.4 -1.7 -7.8  5.6]\n",
            "\n",
            "Array rounded away from zero:\n",
            "[-2.  3. -2. -8.  6.]\n"
          ]
        }
      ]
    },
    {
      "cell_type": "code",
      "source": [
        "#28.How do you extract the integer part of a float using multiple methods?\n",
        "a=np.array([-1.2,2.4,4.5,-2.3,3.4])\n",
        "print(np.floor(a))\n",
        "\n"
      ],
      "metadata": {
        "colab": {
          "base_uri": "https://localhost:8080/"
        },
        "id": "RULGGnvgr7aE",
        "outputId": "fc444600-9f55-4970-9c39-0d4b35c94f3d"
      },
      "execution_count": null,
      "outputs": [
        {
          "output_type": "stream",
          "name": "stdout",
          "text": [
            "[-2.  2.  4. -3.  3.]\n"
          ]
        }
      ]
    },
    {
      "cell_type": "code",
      "source": [
        "#29.How do you create a 5x5 matrix with row values ranging from 0 to 4?\n",
        "import numpy as np\n",
        "matrix=np.tile(np.arange(0,5),(5,1))\n",
        "print(matrix)"
      ],
      "metadata": {
        "colab": {
          "base_uri": "https://localhost:8080/"
        },
        "id": "St6ISwgaukL4",
        "outputId": "229f0636-8b06-447c-fe3a-0d75f59f19c5"
      },
      "execution_count": null,
      "outputs": [
        {
          "output_type": "stream",
          "name": "stdout",
          "text": [
            "[[0 1 2 3 4]\n",
            " [0 1 2 3 4]\n",
            " [0 1 2 3 4]\n",
            " [0 1 2 3 4]\n",
            " [0 1 2 3 4]]\n"
          ]
        }
      ]
    },
    {
      "cell_type": "code",
      "source": [
        "#30.How do you use a generator to create a NumPy array?\n"
      ],
      "metadata": {
        "id": "PlsOLNFdvy9Z"
      },
      "execution_count": null,
      "outputs": []
    },
    {
      "cell_type": "code",
      "metadata": {
        "colab": {
          "base_uri": "https://localhost:8080/"
        },
        "id": "4768f7e9",
        "outputId": "54adb2e1-97ae-4770-9d49-8bd610e1ee10"
      },
      "source": [
        "#30.How do you use a generator to create a NumPy array?\n",
        "import numpy as np\n",
        "\n",
        "# Define a generator function\n",
        "def my_generator():\n",
        "    for i in range(10):\n",
        "        yield(i)\n",
        "\n",
        "# Create a NumPy array from the generator\n",
        "# Note: You need to specify the dtype if the generator yields different types\n",
        "arr_from_generator = np.fromiter(my_generator(), dtype=int)\n",
        "\n",
        "print(arr_from_generator)"
      ],
      "execution_count": null,
      "outputs": [
        {
          "output_type": "stream",
          "name": "stdout",
          "text": [
            "[0 1 2 3 4 5 6 7 8 9]\n"
          ]
        }
      ]
    },
    {
      "cell_type": "code",
      "source": [
        "#31.How do you create an array with evenly spaced values between 0 and 1 (excluded)?\n",
        "import numpy as np\n",
        "\n",
        "# Create an array of 10 evenly spaced values between 0 and 1, excluding 1\n",
        "# np.linspace(start, stop, num, endpoint=True)\n",
        "# By setting endpoint=False, we exclude the stop value (1)\n",
        "arr = np.linspace(0, 1, 10, endpoint=False)\n",
        "\n",
        "print(arr)"
      ],
      "metadata": {
        "colab": {
          "base_uri": "https://localhost:8080/"
        },
        "id": "57g-bjP-z_KO",
        "outputId": "028ceebe-ffcf-4f0c-ad0d-5b3780b6c08c"
      },
      "execution_count": null,
      "outputs": [
        {
          "output_type": "stream",
          "name": "stdout",
          "text": [
            "[0.  0.1 0.2 0.3 0.4 0.5 0.6 0.7 0.8 0.9]\n"
          ]
        }
      ]
    },
    {
      "cell_type": "code",
      "source": [
        "#32.How do you sort a random array?\n",
        "import numpy as np\n",
        "\n",
        "# Create a random array\n",
        "random_array = np.random.rand(10)\n",
        "\n",
        "# Sort the array in ascending order\n",
        "sorted_array = np.sort(random_array)\n",
        "print(sorted_array)\n"
      ],
      "metadata": {
        "colab": {
          "base_uri": "https://localhost:8080/"
        },
        "id": "PkD9fBo72GlO",
        "outputId": "8e0f9628-e65b-4da3-d88f-08d60cf7bd7e"
      },
      "execution_count": null,
      "outputs": [
        {
          "output_type": "stream",
          "name": "stdout",
          "text": [
            "[0.04858178 0.06503899 0.13676343 0.395126   0.41565249 0.42886246\n",
            " 0.53261839 0.6174216  0.83756262 0.91792414]\n"
          ]
        }
      ]
    },
    {
      "cell_type": "code",
      "source": [
        "#34.How do you check if two arrays are equal?\n",
        "import numpy as np\n",
        "\n",
        "# Create two sample arrays\n",
        "array1 = np.array([1, 2, 3, 4])\n",
        "array2 = np.array([1, 2, 3, 4])\n",
        "\n",
        "# Check if the arrays are equal\n",
        "are_equal = np.array_equal(array1, array2)\n",
        "\n",
        "print(are_equal)\n"
      ],
      "metadata": {
        "colab": {
          "base_uri": "https://localhost:8080/"
        },
        "id": "Fad6PAED2Vfq",
        "outputId": "bc8b93a0-2903-4477-f07e-6d973c1d3899"
      },
      "execution_count": null,
      "outputs": [
        {
          "output_type": "stream",
          "name": "stdout",
          "text": [
            "True\n"
          ]
        }
      ]
    },
    {
      "cell_type": "code",
      "source": [
        "#35.How do you make a numpy array read only?\n",
        "import numpy as np\n",
        "\n",
        "# Create a sample NumPy array\n",
        "arr = np.array([1, 2, 3, 4, 5])\n",
        "\n",
        "# Make the array read-only\n",
        "arr.flags.writeable = False\n"
      ],
      "metadata": {
        "id": "N8y63tVx3Gpx"
      },
      "execution_count": null,
      "outputs": []
    },
    {
      "cell_type": "code",
      "source": [
        "#36.How do you convert Cartesian coordinates to polar coordinates?\n",
        "import numpy as np\n",
        "\n",
        "# Sample Cartesian coordinates (x, y)\n",
        "x = np.array([1, 3, -2])\n",
        "y = np.array([1, -3, 2])\n",
        "#convert it into polar coordinates\n",
        "r = np.sqrt(x**2 + y**2)\n",
        "theta = np.arctan2(y, x)\n",
        "print(\"r=\",r)\n",
        "print(\"theta=\",theta)\n",
        "\n",
        "\n"
      ],
      "metadata": {
        "colab": {
          "base_uri": "https://localhost:8080/"
        },
        "id": "o3kWjKBM4d5e",
        "outputId": "53929fea-91be-4d6c-c4fb-cf0f2206e097"
      },
      "execution_count": null,
      "outputs": [
        {
          "output_type": "stream",
          "name": "stdout",
          "text": [
            "r= [1.41421356 4.24264069 2.82842712]\n",
            "theta= [ 0.78539816 -0.78539816  2.35619449]\n"
          ]
        }
      ]
    },
    {
      "cell_type": "code",
      "source": [
        "#37.How do you replace the maximum value in an array with zero?\n",
        "import numpy as np\n",
        "\n",
        "# Create a sample array\n",
        "a = np.arange(10)\n",
        "max_index = np.argmax(a)\n",
        "a[max_index] = 0\n",
        "print(a)"
      ],
      "metadata": {
        "colab": {
          "base_uri": "https://localhost:8080/"
        },
        "id": "69SUBzvr7ZA6",
        "outputId": "de8851c2-3908-44f3-d308-41ce173d792c"
      },
      "execution_count": null,
      "outputs": [
        {
          "output_type": "stream",
          "name": "stdout",
          "text": [
            "[0 1 2 3 4 5 6 7 8 0]\n"
          ]
        }
      ]
    },
    {
      "cell_type": "code",
      "source": [
        "#38.How do you create a structured array for (x, y) coordinate pairs?\n",
        "import numpy as np\n",
        "dtype=[('x',float),('y',float)]\n",
        "arr=np.array([(1,2),(3,4)],dtype=dtype)\n",
        "print(arr)\n",
        "\n",
        "\n",
        "\n"
      ],
      "metadata": {
        "id": "FU98z_G5785b",
        "colab": {
          "base_uri": "https://localhost:8080/"
        },
        "outputId": "1ac5b392-c4d6-4391-f77b-acf2fd124c50"
      },
      "execution_count": null,
      "outputs": [
        {
          "output_type": "stream",
          "name": "stdout",
          "text": [
            "[(1., 2.) (3., 4.)]\n"
          ]
        }
      ]
    },
    {
      "cell_type": "code",
      "metadata": {
        "colab": {
          "base_uri": "https://localhost:8080/"
        },
        "id": "4c5d052e",
        "outputId": "595426f7-1dbf-4fa5-9e43-45f5a7c6ddc0"
      },
      "source": [
        "import numpy as np\n",
        "\n",
        "# Define two arrays\n",
        "x = np.array([1, 2, 3])\n",
        "y = np.array([4, 5, 6])\n",
        "\n",
        "# Create the Cauchy matrix\n",
        "\n",
        "cauchy_matrix = 1.0/x[:,None]+y[None,:]\n",
        "\n",
        "print(cauchy_matrix)"
      ],
      "execution_count": null,
      "outputs": [
        {
          "output_type": "stream",
          "name": "stdout",
          "text": [
            "[[5.         6.         7.        ]\n",
            " [4.5        5.5        6.5       ]\n",
            " [4.33333333 5.33333333 6.33333333]]\n"
          ]
        }
      ]
    },
    {
      "cell_type": "code",
      "source": [
        "#40.How do you find the range of values for each NumPy scalar type?\n",
        "import numpy as np\n",
        "print(np.iinfo(np.int8))\n",
        "print(np.iinfo(np.int16))\n",
        "\n"
      ],
      "metadata": {
        "colab": {
          "base_uri": "https://localhost:8080/"
        },
        "id": "EI2EfogxFuOA",
        "outputId": "3c780442-0354-49be-ae9b-939b8782f6a0"
      },
      "execution_count": null,
      "outputs": [
        {
          "output_type": "stream",
          "name": "stdout",
          "text": [
            "Machine parameters for int8\n",
            "---------------------------------------------------------------\n",
            "min = -128\n",
            "max = 127\n",
            "---------------------------------------------------------------\n",
            "\n",
            "Machine parameters for int16\n",
            "---------------------------------------------------------------\n",
            "min = -32768\n",
            "max = 32767\n",
            "---------------------------------------------------------------\n",
            "\n"
          ]
        }
      ]
    },
    {
      "cell_type": "code",
      "source": [
        "#41.How do you display all values in a large array?\n",
        "import numpy as np\n",
        "arr=np.arange(100)\n",
        "print(arr)"
      ],
      "metadata": {
        "colab": {
          "base_uri": "https://localhost:8080/"
        },
        "id": "L-r3i0lLH534",
        "outputId": "3c711392-af5f-4384-9186-c96cbe0b1bbf"
      },
      "execution_count": null,
      "outputs": [
        {
          "output_type": "stream",
          "name": "stdout",
          "text": [
            "[ 0  1  2  3  4  5  6  7  8  9 10 11 12 13 14 15 16 17 18 19 20 21 22 23\n",
            " 24 25 26 27 28 29 30 31 32 33 34 35 36 37 38 39 40 41 42 43 44 45 46 47\n",
            " 48 49 50 51 52 53 54 55 56 57 58 59 60 61 62 63 64 65 66 67 68 69 70 71\n",
            " 72 73 74 75 76 77 78 79 80 81 82 83 84 85 86 87 88 89 90 91 92 93 94 95\n",
            " 96 97 98 99]\n"
          ]
        }
      ]
    },
    {
      "cell_type": "code",
      "source": [
        "#42.How do you find the closest value to a given scalar in an array?\n",
        "import numpy as np\n",
        "arr=np.array([3,7,10,15,20])\n",
        "scalar=12\n",
        "closest_value=arr[np.abs(arr-scalar).argmin()]\n",
        "print(closest_value)\n",
        "\n"
      ],
      "metadata": {
        "colab": {
          "base_uri": "https://localhost:8080/"
        },
        "id": "bEYf3nWXJOwo",
        "outputId": "c1b2e676-c1fc-427c-f96d-fe096433b0be"
      },
      "execution_count": null,
      "outputs": [
        {
          "output_type": "stream",
          "name": "stdout",
          "text": [
            "10\n"
          ]
        }
      ]
    },
    {
      "cell_type": "code",
      "source": [
        "#43.How do you create a structured array with position and color fields?\n",
        "dtype=[('position', [('x', float), ('y', float)]), ('color', [('r', 'U10'), ('g', 'U10'), ('b', 'U10')])]\n",
        "data=np.array([((1.0,2.0),'red'),((3.5,4.2),'blue'),((2.9,1.2),'green')],dtype=dtype)\n",
        "print(\"positions:/n\",data['position'])\n",
        "print(\"colors:/n\",data['color'])\n"
      ],
      "metadata": {
        "colab": {
          "base_uri": "https://localhost:8080/"
        },
        "id": "Spj4bl7IK9s_",
        "outputId": "e71509be-1ace-46da-ec70-7b04ea7e22e9"
      },
      "execution_count": null,
      "outputs": [
        {
          "output_type": "stream",
          "name": "stdout",
          "text": [
            "positions:/n [(1. , 2. ) (3.5, 4.2) (2.9, 1.2)]\n",
            "colors:/n [('red', 'red', 'red') ('blue', 'blue', 'blue')\n",
            " ('green', 'green', 'green')]\n"
          ]
        }
      ]
    },
    {
      "cell_type": "code",
      "metadata": {
        "colab": {
          "base_uri": "https://localhost:8080/"
        },
        "id": "510e9e1f",
        "outputId": "dc521b55-2de1-4a2a-a272-3fe53b04b339"
      },
      "source": [
        "#44.How do you compute pairwise distances between coordinates?\n",
        "points=np.array([(1,2),(3,4),(5,6)])\n",
        "\n",
        "distances = np.sqrt(((points[:,None,:] - points[None,:,:])**2).sum(axis=-1))\n",
        "\n",
        "print(distances)"
      ],
      "execution_count": null,
      "outputs": [
        {
          "output_type": "stream",
          "name": "stdout",
          "text": [
            "[[0.         2.82842712 5.65685425]\n",
            " [2.82842712 0.         2.82842712]\n",
            " [5.65685425 2.82842712 0.        ]]\n"
          ]
        }
      ]
    },
    {
      "cell_type": "code",
      "source": [
        "#how do you cast a float array to integer type in place?\n",
        "import numpy as np\n",
        "arr=np.array([1.2,3.4,5.6,7.8])\n",
        "arr=arr.astype(int)\n",
        "print(arr)\n",
        "\n"
      ],
      "metadata": {
        "colab": {
          "base_uri": "https://localhost:8080/"
        },
        "id": "Ioaq-UdYSat9",
        "outputId": "19386dba-9c5a-406c-b48a-48544d680b83"
      },
      "execution_count": null,
      "outputs": [
        {
          "output_type": "stream",
          "name": "stdout",
          "text": [
            "[1 3 5 7]\n"
          ]
        }
      ]
    },
    {
      "cell_type": "code",
      "source": [
        "#47.How do you iterate through all elements in a NumPy array with indices?\n",
        "import numpy as np\n",
        "a=np.array([1,2,3,4,5,6,7,8,9])\n",
        "for index,value in np.ndenumerate(a):\n",
        "    print(index,value)"
      ],
      "metadata": {
        "id": "hyCj55TfT3sC",
        "colab": {
          "base_uri": "https://localhost:8080/"
        },
        "outputId": "c6d3f4f4-42cf-4b57-e2b7-98cb18607bf5"
      },
      "execution_count": null,
      "outputs": [
        {
          "output_type": "stream",
          "name": "stdout",
          "text": [
            "(0,) 1\n",
            "(1,) 2\n",
            "(2,) 3\n",
            "(3,) 4\n",
            "(4,) 5\n",
            "(5,) 6\n",
            "(6,) 7\n",
            "(7,) 8\n",
            "(8,) 9\n"
          ]
        }
      ]
    },
    {
      "cell_type": "code",
      "source": [
        "#49.How do you randomly place a specific number of elements in a 2D array?\n",
        "import numpy as np\n",
        "a=np.array([(1,2),(3,4)])\n",
        "a[0,1]\n"
      ],
      "metadata": {
        "colab": {
          "base_uri": "https://localhost:8080/"
        },
        "id": "rM_2pQhlpZea",
        "outputId": "78056ece-ea94-4d29-e17a-9bfb2c21473f"
      },
      "execution_count": null,
      "outputs": [
        {
          "output_type": "execute_result",
          "data": {
            "text/plain": [
              "np.int64(2)"
            ]
          },
          "metadata": {},
          "execution_count": 3
        }
      ]
    },
    {
      "cell_type": "code",
      "source": [
        "#50.How do you subtract the row mean from a matrix?\n",
        "import numpy as np\n",
        "a=np.array([(1,2),(3,4)])\n",
        "row_mean=np.mean(a,axis=1)\n",
        "print(row_mean)\n",
        "print(a-row_mean)"
      ],
      "metadata": {
        "colab": {
          "base_uri": "https://localhost:8080/"
        },
        "id": "xGpzei4jr7XL",
        "outputId": "56c58e2d-6471-4479-fcf6-029c60d0f004"
      },
      "execution_count": null,
      "outputs": [
        {
          "output_type": "stream",
          "name": "stdout",
          "text": [
            "[1.5 3.5]\n",
            "[[-0.5 -1.5]\n",
            " [ 1.5  0.5]]\n"
          ]
        }
      ]
    },
    {
      "cell_type": "code",
      "metadata": {
        "colab": {
          "base_uri": "https://localhost:8080/"
        },
        "id": "7db8a981",
        "outputId": "f3abff83-f724-40af-bace-18e9ca901f9d"
      },
      "source": [
        "##51.How do you sort a 2D array based on the values of one column?\n",
        "\n",
        "import numpy as np\n",
        "\n",
        "# Create a sample 2D array\n",
        "a = np.array([[3, 2], [1, 4], [2, 1]])\n",
        "\n",
        "# Sort the array based on the values of the first column (index 0)\n",
        "sorted_array = a[a[:, 0].argsort()]\n",
        "\n",
        "print(sorted_array)"
      ],
      "execution_count": null,
      "outputs": [
        {
          "output_type": "stream",
          "name": "stdout",
          "text": [
            "[[1 4]\n",
            " [2 1]\n",
            " [3 2]]\n"
          ]
        }
      ]
    },
    {
      "cell_type": "code",
      "source": [
        "#52.How do you check if a 2D array contains any null (zero-only) columns?\n",
        "import numpy as np\n",
        "a=np.array([[0,1,2],\n",
        "            [0,2,0],\n",
        "            [0,3,0]])\n",
        "zero_columns=np.all(a==0,axis=0)\n",
        "print(zero_columns)"
      ],
      "metadata": {
        "id": "I9xsaxh15_GK",
        "colab": {
          "base_uri": "https://localhost:8080/"
        },
        "outputId": "6d60d8fe-e583-483d-f285-d749c73f1bdd"
      },
      "execution_count": null,
      "outputs": [
        {
          "output_type": "stream",
          "name": "stdout",
          "text": [
            "[ True False False]\n"
          ]
        }
      ]
    },
    {
      "cell_type": "code",
      "source": [
        "#53.How do you find the nearest value to a given number in a NumPy array?\n",
        "import numpy as np\n",
        "arr=np.array([1.2,2.3,4.5,5.2,6.7])\n",
        "given_number=2.5\n",
        "nearest_value=arr[np.abs(arr-given_number).argmin()]\n",
        "print(nearest_value)"
      ],
      "metadata": {
        "colab": {
          "base_uri": "https://localhost:8080/"
        },
        "id": "JOYW1YcM-rvs",
        "outputId": "54222acc-8301-4972-e73d-742255c769a7"
      },
      "execution_count": null,
      "outputs": [
        {
          "output_type": "stream",
          "name": "stdout",
          "text": [
            "2.3\n"
          ]
        }
      ]
    },
    {
      "cell_type": "code",
      "source": [
        "#55.How do you increment elements in an array using an index array with repeats?\n",
        "import numpy as np\n",
        "arr=np.zeros(5,dtype=int)\n",
        "indices=np.array([0,1,2,3,4])\n",
        "np.add.at(arr,indices,1)\n",
        "print(arr)\n"
      ],
      "metadata": {
        "colab": {
          "base_uri": "https://localhost:8080/"
        },
        "id": "jmHwh8y6DVBd",
        "outputId": "4852eea5-9eca-433f-b114-a8296cff3f7a"
      },
      "execution_count": null,
      "outputs": [
        {
          "output_type": "stream",
          "name": "stdout",
          "text": [
            "[1 1 1 1 1]\n"
          ]
        }
      ]
    },
    {
      "cell_type": "code",
      "source": [
        "#56.How do you accumulate values into an array based on indices?\n",
        "import numpy as np\n",
        "values=np.array([5,4,3,2,1])\n",
        "indices=np.array([4,0,1,2,3])\n",
        "arr=np.zeros(5,dtype=int)\n",
        "np.add.at(arr,indices,values)\n",
        "print(arr)"
      ],
      "metadata": {
        "colab": {
          "base_uri": "https://localhost:8080/"
        },
        "id": "Bstc5MBcDt17",
        "outputId": "51c08499-576b-4778-e809-c1b4674cc015"
      },
      "execution_count": null,
      "outputs": [
        {
          "output_type": "stream",
          "name": "stdout",
          "text": [
            "[4 3 2 1 5]\n"
          ]
        }
      ]
    },
    {
      "cell_type": "code",
      "source": [
        "#57.How do you count unique colors in a 3D image array?\n",
        "import numpy as np\n",
        "image=np.array([[[1,2,3],[4,5,6]],[[7,8,9],[10,11,12]]])\n",
        "unique_colors=np.unique(image)\n",
        "print(unique_colors)"
      ],
      "metadata": {
        "colab": {
          "base_uri": "https://localhost:8080/"
        },
        "id": "Smkvj2RUFvKV",
        "outputId": "9a031102-faf5-488a-ba07-a4955df21094"
      },
      "execution_count": null,
      "outputs": [
        {
          "output_type": "stream",
          "name": "stdout",
          "text": [
            "[ 1  2  3  4  5  6  7  8  9 10 11 12]\n"
          ]
        }
      ]
    },
    {
      "cell_type": "code",
      "source": [
        "#58.How do you compute the sum across the last two axes of a 4D array?\n",
        "import numpy as np\n",
        "a=np.array([[[[1,2,3],[4,5,6]],[[7,8,9],[10,11,12]]]])\n",
        "\n",
        "print(a.sum(axis=(2,3)))"
      ],
      "metadata": {
        "colab": {
          "base_uri": "https://localhost:8080/"
        },
        "id": "Dls-l1VhFiEC",
        "outputId": "758e90f4-d16a-431f-b03b-e2ea88432497"
      },
      "execution_count": null,
      "outputs": [
        {
          "output_type": "stream",
          "name": "stdout",
          "text": [
            "[[21 57]]\n"
          ]
        }
      ]
    },
    {
      "cell_type": "code",
      "source": [
        "#59.How do you calculate means of grouped values in an array?\n",
        "groups=np.array([0,1,1,0,2,2,1])\n",
        "values=np.array([10,20,25,30,5,15,35])\n",
        "sums=np.bincount(groups,weights=values)\n",
        "counts=np.bincount(groups)\n",
        "means=sums/counts\n",
        "print(means)\n",
        "\n"
      ],
      "metadata": {
        "colab": {
          "base_uri": "https://localhost:8080/"
        },
        "id": "wQ4JGp2FH_HT",
        "outputId": "ab2175e7-4be0-4c1d-b0e8-05f67bbd73fb"
      },
      "execution_count": null,
      "outputs": [
        {
          "output_type": "stream",
          "name": "stdout",
          "text": [
            "[20.         26.66666667 10.        ]\n"
          ]
        }
      ]
    },
    {
      "cell_type": "code",
      "source": [
        "#60.How do you efficiently get the diagonal of a matrix dot product?\n",
        "import numpy as np\n",
        "a=np.array([[1,2],[3,4]])\n",
        "b=np.array([[5,6],[7,8]])\n",
        "product=np.dot(a,b)\n",
        "diag=np.diagonal(product)\n",
        "print(diag)\n",
        "\n",
        "\n"
      ],
      "metadata": {
        "colab": {
          "base_uri": "https://localhost:8080/"
        },
        "id": "xHrFmUa7JaOi",
        "outputId": "cabc1536-8a9e-42a9-f0d1-a9bddc47d26a"
      },
      "execution_count": null,
      "outputs": [
        {
          "output_type": "stream",
          "name": "stdout",
          "text": [
            "[19 50]\n"
          ]
        }
      ]
    },
    {
      "cell_type": "code",
      "source": [
        "#62.How do you multiply a (5,5,3) array with a (5,5) array element-wise?\n",
        "a=np.random.rand(5,5,3)\n",
        "\n",
        "b=np.random.rand(5,5)\n",
        "result=(a*b[:,:,np.newaxis])\n",
        "print(result.shape)"
      ],
      "metadata": {
        "colab": {
          "base_uri": "https://localhost:8080/"
        },
        "id": "jTcRHgISQ9vo",
        "outputId": "1a1fed12-9ecb-4707-8479-6b5c10ad440e"
      },
      "execution_count": null,
      "outputs": [
        {
          "output_type": "stream",
          "name": "stdout",
          "text": [
            "(5, 5, 3)\n"
          ]
        }
      ]
    },
    {
      "cell_type": "code",
      "source": [
        "#63.How do you swap two rows in a matrix?\n",
        "import numpy as np\n",
        "a=np.array([[1,2,3],[4,5,6],[7,8,9]])\n",
        "a[[0,1]]=a[[1,0]]\n",
        "print(a)\n"
      ],
      "metadata": {
        "colab": {
          "base_uri": "https://localhost:8080/"
        },
        "id": "7WkDtCQGUfFQ",
        "outputId": "413e7948-1fe5-4ec7-b8bb-1e9d787676ae"
      },
      "execution_count": null,
      "outputs": [
        {
          "output_type": "stream",
          "name": "stdout",
          "text": [
            "[[4 5 6]\n",
            " [1 2 3]\n",
            " [7 8 9]]\n"
          ]
        }
      ]
    },
    {
      "cell_type": "code",
      "source": [
        "#64.How do you extract unique line segments from triangle definitions?\n",
        "import numpy as np\n",
        "triangles=np.array([[0,1,2],\n",
        "                    [2,3,0]])\n",
        "edges=np.concatenate([triangles[:,[0,1]],\n",
        "                      triangles[:,[1,2]],\n",
        "                      triangles[:,[2,0]]])\n",
        "edges=np.sort(edges,axis=1)\n",
        "unique_edges=np.unique(edges,axis=0)\n",
        "print(unique_edges)\n",
        "\n",
        "\n",
        "\n"
      ],
      "metadata": {
        "colab": {
          "base_uri": "https://localhost:8080/"
        },
        "id": "MuAb3BPWZEJ1",
        "outputId": "c9ac081d-c675-4202-a8f9-93654831b7de"
      },
      "execution_count": null,
      "outputs": [
        {
          "output_type": "stream",
          "name": "stdout",
          "text": [
            "[[0 1]\n",
            " [0 2]\n",
            " [0 3]\n",
            " [1 2]\n",
            " [2 3]]\n"
          ]
        }
      ]
    },
    {
      "cell_type": "code",
      "source": [
        "#65.How do you recreate an array from a bincount?\n",
        "import numpy as np\n",
        "x=np.array([1,2,3,4,5])\n",
        "y=np.bincount(x)\n",
        "values = np.arange(len(y))\n",
        "recreated_array = np.repeat(values, y)\n",
        "print(recreated_array)"
      ],
      "metadata": {
        "colab": {
          "base_uri": "https://localhost:8080/"
        },
        "id": "bPtR9MG4dd_W",
        "outputId": "944f6027-b28f-438a-f5e5-281d3b118acd"
      },
      "execution_count": null,
      "outputs": [
        {
          "output_type": "stream",
          "name": "stdout",
          "text": [
            "[1 2 3 4 5]\n"
          ]
        }
      ]
    },
    {
      "cell_type": "code",
      "source": [
        "#66.How do you compute a moving average using a sliding window?\n",
        "a=np.arange(10)\n",
        "window=4\n",
        "moving_sum=np.convolve(a,np.ones(window)/window,'valid')\n",
        "moving_average=moving_sum/window\n",
        "print(moving_average)\n",
        "\n",
        "\n"
      ],
      "metadata": {
        "colab": {
          "base_uri": "https://localhost:8080/"
        },
        "id": "ujZiqjsEiJwb",
        "outputId": "a3444c1c-ca2c-4b67-e300-a46840803c23"
      },
      "execution_count": null,
      "outputs": [
        {
          "output_type": "stream",
          "name": "stdout",
          "text": [
            "[0.375 0.625 0.875 1.125 1.375 1.625 1.875]\n"
          ]
        }
      ]
    },
    {
      "cell_type": "code",
      "source": [
        "#67.How do you create a rolling 2D view from a 1D array?\n",
        "import numpy as np\n",
        "\n",
        "# Create a 1D array\n",
        "arr = np.arange(10)\n",
        "window_size = 3\n",
        "itemsize = arr.itemsize\n",
        "stride = arr.strides[0]\n",
        "rolling_view = np.lib.stride_tricks.as_strided(arr, shape=(len(arr) - window_size + 1, window_size), strides=(stride, itemsize))\n",
        "print(rolling_view)"
      ],
      "metadata": {
        "id": "xkFVEm-xkIMa",
        "colab": {
          "base_uri": "https://localhost:8080/"
        },
        "outputId": "f91d5bdb-a8e7-434e-edd9-f1456fdec939"
      },
      "execution_count": null,
      "outputs": [
        {
          "output_type": "stream",
          "name": "stdout",
          "text": [
            "[[0 1 2]\n",
            " [1 2 3]\n",
            " [2 3 4]\n",
            " [3 4 5]\n",
            " [4 5 6]\n",
            " [5 6 7]\n",
            " [6 7 8]\n",
            " [7 8 9]]\n"
          ]
        }
      ]
    },
    {
      "cell_type": "code",
      "source": [
        "\n",
        "#68.How do you invert booleans or negate floats in-place?\n",
        "import numpy as np\n",
        "x=np.array([False,True,True,False])\n",
        "x[:]=~x\n",
        "print(x)\n"
      ],
      "metadata": {
        "colab": {
          "base_uri": "https://localhost:8080/"
        },
        "id": "uYWxc-ik6tTh",
        "outputId": "02839943-6fb3-4fce-a18d-24e72ee53031"
      },
      "execution_count": null,
      "outputs": [
        {
          "output_type": "stream",
          "name": "stdout",
          "text": [
            "[ True False False  True]\n"
          ]
        }
      ]
    },
    {
      "cell_type": "code",
      "source": [
        "#71.How do you extract a fixed-shaped subarray centered on a given point?\n",
        "import numpy as np\n",
        "a=np.arange(25).reshape(5,5)\n",
        "center_point=(1,2)\n",
        "half_size=1\n",
        "r,c=center_point\n",
        "subarray=a[r-half_size:r+half_size+1,c-half_size:c+half_size+1]\n",
        "print(subarray)"
      ],
      "metadata": {
        "colab": {
          "base_uri": "https://localhost:8080/"
        },
        "id": "hxt8q7Y_-JA3",
        "outputId": "0f62640a-695b-4aef-96e5-e0ef5a03d8ad"
      },
      "execution_count": null,
      "outputs": [
        {
          "output_type": "stream",
          "name": "stdout",
          "text": [
            "[[ 1  2  3]\n",
            " [ 6  7  8]\n",
            " [11 12 13]]\n"
          ]
        }
      ]
    },
    {
      "cell_type": "code",
      "source": [
        "#72.How do you generate overlapping subarrays from a vector?\n",
        "import numpy as np\n",
        "\n",
        "# Create a 1D array\n",
        "arr = np.arange(10)\n",
        "subarray_size = 3\n",
        "step_size = 1\n",
        "itemsize = arr.itemsize\n",
        "stride = arr.strides[0]\n",
        "rolling_view = np.lib.stride_tricks.as_strided(arr, shape=((len(arr) - subarray_size) // step_size + 1, subarray_size), strides=(step_size * stride, itemsize))\n",
        "print(rolling_view)"
      ],
      "metadata": {
        "colab": {
          "base_uri": "https://localhost:8080/"
        },
        "id": "zbls2QYvAljL",
        "outputId": "08048ad0-c224-434d-f518-b202309f080c"
      },
      "execution_count": null,
      "outputs": [
        {
          "output_type": "stream",
          "name": "stdout",
          "text": [
            "[[0 1 2]\n",
            " [1 2 3]\n",
            " [2 3 4]\n",
            " [3 4 5]\n",
            " [4 5 6]\n",
            " [5 6 7]\n",
            " [6 7 8]\n",
            " [7 8 9]]\n"
          ]
        }
      ]
    },
    {
      "cell_type": "code",
      "source": [
        "#73.How do you compute the rank of a matrix using SVD?\n",
        "import numpy as np\n",
        "\n",
        "# Create a sample matrix\n",
        "matrix = np.array([[1, 2, 3],\n",
        "                   [4, 5, 6],\n",
        "                   [7, 8, 9]])\n",
        "U, s, V = np.linalg.svd(matrix)\n",
        "rank = np.sum(s > 1e-10)\n",
        "print(\"Original Matrix:\")\n",
        "print(matrix)\n",
        "print(\"\\nSingular Values:\")\n",
        "print(s)\n",
        "print(\"\\nRank of the matrix:\", rank)"
      ],
      "metadata": {
        "colab": {
          "base_uri": "https://localhost:8080/"
        },
        "id": "jJ7aIKKmBtMF",
        "outputId": "c2c6d4e7-e412-4924-9099-0127c2927ef3"
      },
      "execution_count": null,
      "outputs": [
        {
          "output_type": "stream",
          "name": "stdout",
          "text": [
            "Original Matrix:\n",
            "[[1 2 3]\n",
            " [4 5 6]\n",
            " [7 8 9]]\n",
            "\n",
            "Singular Values:\n",
            "[1.68481034e+01 1.06836951e+00 4.41842475e-16]\n",
            "\n",
            "Rank of the matrix: 2\n"
          ]
        }
      ]
    },
    {
      "cell_type": "code",
      "source": [
        "#74.How do you find the most frequent value in an array?\n",
        "import numpy as np\n",
        "\n",
        "# Create a sample array\n",
        "arr = np.array([1, 2, 3, 2, 1, 2, 3, 4, 5, 4, 4, 4])\n",
        "counts = np.bincount(arr)\n",
        "most_frequent_value = np.argmax(counts)\n",
        "print(\"Most frequent value:\", most_frequent_value)"
      ],
      "metadata": {
        "colab": {
          "base_uri": "https://localhost:8080/"
        },
        "id": "ytk-x8kTCq23",
        "outputId": "1932841a-5967-40fe-a7f2-150ef2b071dc"
      },
      "execution_count": null,
      "outputs": [
        {
          "output_type": "stream",
          "name": "stdout",
          "text": [
            "Most frequent value: 4\n"
          ]
        }
      ]
    },
    {
      "cell_type": "code",
      "source": [
        "#75.How do you extract all 3x3 contiguous blocks from a 10x10 matrix?\n",
        "a=np.arange(100).reshape(10,10)\n",
        "blocks=np.lib.stride_tricks.sliding_window_view(a,(3,3))\n",
        "print(blocks[0,0])\n"
      ],
      "metadata": {
        "colab": {
          "base_uri": "https://localhost:8080/"
        },
        "id": "xaypxJSvEelw",
        "outputId": "bc8afe63-fc39-4b86-ac7a-f6ce4da62b68"
      },
      "execution_count": null,
      "outputs": [
        {
          "output_type": "stream",
          "name": "stdout",
          "text": [
            "[[ 0  1  2]\n",
            " [10 11 12]\n",
            " [20 21 22]]\n"
          ]
        }
      ]
    },
    {
      "cell_type": "code",
      "source": [
        "#76.How do you create a 2D symmetric matrix class?\n",
        "a=np.random.randint(1,10,(4,4))\n",
        "symmetric_matrix=(a+a.T)/2\n",
        "print(symmetric_matrix)"
      ],
      "metadata": {
        "colab": {
          "base_uri": "https://localhost:8080/"
        },
        "id": "ZuU9UxXNE-PI",
        "outputId": "2d4ae9e2-1efa-4f87-a6f1-135952db06e2"
      },
      "execution_count": null,
      "outputs": [
        {
          "output_type": "stream",
          "name": "stdout",
          "text": [
            "[[6.  4.  4.  5.5]\n",
            " [4.  2.  4.5 4.5]\n",
            " [4.  4.5 2.  3. ]\n",
            " [5.5 4.5 3.  1. ]]\n"
          ]
        }
      ]
    },
    {
      "cell_type": "code",
      "source": [
        "#77.How do you compute the sum of multiple matrix-vector products at once?\n",
        "\n",
        "import numpy as np\n",
        "matrices=np.random.randint(1,10,(3,3,3))\n",
        "vectors=np.random.randint(1,10,(3,3))\n",
        "result=np.zeros(3)\n",
        "for A,x in zip(matrices,vectors):\n",
        "    result+=A @ x\n",
        "print(result)"
      ],
      "metadata": {
        "colab": {
          "base_uri": "https://localhost:8080/"
        },
        "id": "WJgvdfJoF9SI",
        "outputId": "0b5f8750-55a5-4ae3-d794-f9f40c2e4e4c"
      },
      "execution_count": null,
      "outputs": [
        {
          "output_type": "stream",
          "name": "stdout",
          "text": [
            "[211. 158. 117.]\n"
          ]
        }
      ]
    },
    {
      "cell_type": "code",
      "source": [
        "#78.How do you compute the sum of blocks in a 2D array?\n",
        "import numpy as np\n",
        "\n",
        "# Create a sample 2D array\n",
        "array = np.arange(36).reshape(6, 6)\n",
        "block_shape = (3, 3)\n",
        "blocks = np.lib.stride_tricks.sliding_window_view(array, block_shape)\n",
        "sum_of_blocks = blocks.sum(axis=(-2, -1))\n",
        "print(\"\\nSum of Blocks:\")\n",
        "print(sum_of_blocks)"
      ],
      "metadata": {
        "colab": {
          "base_uri": "https://localhost:8080/"
        },
        "id": "6gGcwbmuHnp8",
        "outputId": "c5f8ba40-2172-4fd4-fde9-818d17dd54d9"
      },
      "execution_count": null,
      "outputs": [
        {
          "output_type": "stream",
          "name": "stdout",
          "text": [
            "\n",
            "Sum of Blocks:\n",
            "[[ 63  72  81  90]\n",
            " [117 126 135 144]\n",
            " [171 180 189 198]\n",
            " [225 234 243 252]]\n"
          ]
        }
      ]
    },
    {
      "cell_type": "code",
      "source": [
        "#80.How do you extract the top N largest values from an array?\n",
        "import numpy as np\n",
        "arr=np.array([10,5,8,12,3,7])\n",
        "n=3\n",
        "largest_values=arr[np.argsort(arr)[-n:]]\n",
        "print(largest_values)\n",
        "\n"
      ],
      "metadata": {
        "colab": {
          "base_uri": "https://localhost:8080/"
        },
        "id": "xHsKrQKEKXZK",
        "outputId": "c03cf78e-839a-48fc-ab18-a79d02077efc"
      },
      "execution_count": null,
      "outputs": [
        {
          "output_type": "stream",
          "name": "stdout",
          "text": [
            "[ 8 10 12]\n"
          ]
        }
      ]
    },
    {
      "cell_type": "code",
      "source": [
        "#81.How do you create a Cartesian product of multiple input arrays?\n",
        "import numpy as np\n",
        "from itertools import product\n",
        "\n",
        "a=np.array([1,2])\n",
        "b=np.array([3,4])\n",
        "c=np.array([5,6])\n",
        "cartesian_product=np.array(list(product(a,b,c)))\n",
        "print(cartesian_product)"
      ],
      "metadata": {
        "colab": {
          "base_uri": "https://localhost:8080/"
        },
        "id": "C8pfVpcvK94d",
        "outputId": "fb67dc5a-d48c-462b-bae5-46be45a60333"
      },
      "execution_count": null,
      "outputs": [
        {
          "output_type": "stream",
          "name": "stdout",
          "text": [
            "[[1 3 5]\n",
            " [1 3 6]\n",
            " [1 4 5]\n",
            " [1 4 6]\n",
            " [2 3 5]\n",
            " [2 3 6]\n",
            " [2 4 5]\n",
            " [2 4 6]]\n"
          ]
        }
      ]
    },
    {
      "cell_type": "code",
      "source": [
        "#82.How do you create a record array from a regular NumPy array?\n",
        "import numpy as np\n",
        "\n",
        "# Create a regular NumPy array\n",
        "regular_array = np.array([(1, 'Alice', 25),\n",
        "                          (2, 'Bob', 30),\n",
        "                          (3, 'Charlie', 22)],\n",
        "                         dtype=[('id', int), ('name', 'U10'), ('age', int)])\n",
        "record_array = np.rec.array(regular_array)\n",
        "print(record_array)"
      ],
      "metadata": {
        "colab": {
          "base_uri": "https://localhost:8080/"
        },
        "id": "HY1Q5WkJMmUp",
        "outputId": "96f87c26-d36c-4c27-d4e9-7604c01d7c25"
      },
      "execution_count": null,
      "outputs": [
        {
          "output_type": "stream",
          "name": "stdout",
          "text": [
            "[(1, 'Alice', 25) (2, 'Bob', 30) (3, 'Charlie', 22)]\n"
          ]
        }
      ]
    },
    {
      "cell_type": "code",
      "source": [
        "#83.How do you raise an array to the power of 3 using different methods?\n",
        "import numpy as np\n",
        "\n",
        "# Create a sample NumPy array\n",
        "arr = np.array([1, 2, 3, 4, 5])\n",
        "\n",
        "# Method 1: Using the ** operator\n",
        "result_operator = arr ** 3\n",
        "print(\"Using the ** operator:\", result_operator)\n",
        "\n",
        "# Method 2: Using np.power()\n",
        "result_power = np.power(arr, 3)\n",
        "print(\"Using np.power():\", result_power)\n",
        "\n",
        "# Method 3: Using element-wise multiplication\n",
        "result_multiplication = arr * arr * arr\n",
        "print(\"Using element-wise multiplication:\", result_multiplication)"
      ],
      "metadata": {
        "colab": {
          "base_uri": "https://localhost:8080/"
        },
        "id": "OzePB405OAKp",
        "outputId": "9b74aeed-8eaf-40f2-fa5f-a19634aa5dbe"
      },
      "execution_count": null,
      "outputs": [
        {
          "output_type": "stream",
          "name": "stdout",
          "text": [
            "Using the ** operator: [  1   8  27  64 125]\n",
            "Using np.power(): [  1   8  27  64 125]\n",
            "Using element-wise multiplication: [  1   8  27  64 125]\n"
          ]
        }
      ]
    },
    {
      "cell_type": "code",
      "source": [
        "#84.How do you find rows in a matrix containing all elements of another matrix?\n",
        "import numpy as np\n",
        "A=np.array([[1,2,3,4],\n",
        "            [4,5,6,7],\n",
        "            [2,3,4,5],\n",
        "            [7,8,9,1]])\n",
        "B=np.array([2,3,4,5])\n",
        "contains_elements = np.isin(A, B)\n",
        "rows_containing_all_elements = np.all(contains_elements, axis=1)\n",
        "result_rows = A[rows_containing_all_elements]\n",
        "print(result_rows)"
      ],
      "metadata": {
        "colab": {
          "base_uri": "https://localhost:8080/"
        },
        "id": "IeViG8vrOfEn",
        "outputId": "a61f2b26-31f9-42e5-a9e4-1b90247b632f"
      },
      "execution_count": null,
      "outputs": [
        {
          "output_type": "stream",
          "name": "stdout",
          "text": [
            "[[2 3 4 5]]\n"
          ]
        }
      ]
    },
    {
      "cell_type": "code",
      "source": [
        "#85.How do you filter rows in a matrix with at least one differing value?\n",
        "a=np.array([[1,2,3],\n",
        "            [1,2,3],\n",
        "            [4,5,6],\n",
        "            [1,2,4]])\n",
        "ref=np.array([1,2,3])\n",
        "mask=np.any(a!=ref,axis=1)\n",
        "filtered_rows=a[mask]\n",
        "print(filtered_rows)\n",
        "\n",
        "\n"
      ],
      "metadata": {
        "colab": {
          "base_uri": "https://localhost:8080/"
        },
        "id": "QfbqNY86QrSM",
        "outputId": "f73a0471-0b35-424b-b024-d50fb268423b"
      },
      "execution_count": null,
      "outputs": [
        {
          "output_type": "stream",
          "name": "stdout",
          "text": [
            "[[4 5 6]\n",
            " [1 2 4]]\n"
          ]
        }
      ]
    },
    {
      "cell_type": "code",
      "source": [
        "#86.How do you convert integers to their binary matrix representation?\n",
        "import numpy as np\n",
        "arr=np.array([1,2,3],dtype=np.uint8)\n",
        "binary_matrix=np.unpackbits(arr[:,np.newaxis],axis=1)\n",
        "print(binary_matrix)\n"
      ],
      "metadata": {
        "colab": {
          "base_uri": "https://localhost:8080/"
        },
        "id": "CxA5BjnoUtK1",
        "outputId": "58ec1620-4814-4fad-d541-382cc8fd94af"
      },
      "execution_count": null,
      "outputs": [
        {
          "output_type": "stream",
          "name": "stdout",
          "text": [
            "[[0 0 0 0 0 0 0 1]\n",
            " [0 0 0 0 0 0 1 0]\n",
            " [0 0 0 0 0 0 1 1]]\n"
          ]
        }
      ]
    },
    {
      "cell_type": "code",
      "source": [
        "#87.How do you extract unique rows from a 2D array?\n",
        "a=np.array([[1,2,3],\n",
        "            [1,2,3],\n",
        "            [4,5,6],\n",
        "            [1,2,4]])\n",
        "unique_rows=np.unique(a,axis=0)\n",
        "print(unique_rows)\n"
      ],
      "metadata": {
        "colab": {
          "base_uri": "https://localhost:8080/"
        },
        "id": "PnNwrKtnVpyy",
        "outputId": "d6c2fc7b-e3c0-402c-d5d6-136c5158990a"
      },
      "execution_count": null,
      "outputs": [
        {
          "output_type": "stream",
          "name": "stdout",
          "text": [
            "[[1 2 3]\n",
            " [1 2 4]\n",
            " [4 5 6]]\n"
          ]
        }
      ]
    },
    {
      "cell_type": "code",
      "source": [
        "#88.How do you compute inner, outer, sum, and multiplication using einsum?\n",
        "a=np.array([1,2,3])\n",
        "b=np.array([4,5,6])\n",
        "inner=np.einsum('i,i->',a,b)\n",
        "outer=np.einsum('i,j->ij',a,b)\n",
        "sum=np.einsum('i->',a)\n",
        "multiplication=np.einsum('i,i->i',a,b)\n",
        "print(\"inner\",inner)\n",
        "print(\"outer\",outer)\n",
        "print(\"sum\",sum)\n",
        "print(\"multiplication\",multiplication)\n",
        "\n",
        "\n",
        "\n"
      ],
      "metadata": {
        "colab": {
          "base_uri": "https://localhost:8080/"
        },
        "id": "1tUv7q6vXcPc",
        "outputId": "eaf9abc4-884d-482b-91a5-9dba721be883"
      },
      "execution_count": null,
      "outputs": [
        {
          "output_type": "stream",
          "name": "stdout",
          "text": [
            "inner 32\n",
            "outer [[ 4  5  6]\n",
            " [ 8 10 12]\n",
            " [12 15 18]]\n",
            "sum 6\n",
            "multiplication [ 4 10 18]\n"
          ]
        }
      ]
    },
    {
      "cell_type": "code",
      "source": [
        "#90.How do you filter 2D array rows that sum to a specific number using only integers?\n",
        "import numpy as np\n",
        "arr=np.array([[1,2,3],\n",
        "              [4,1,1],\n",
        "              [2,2,2],\n",
        "              [3,3,0]],dtype=int)\n",
        "specific_sum=6\n",
        "rows_sum=np.sum(arr,axis=1)\n",
        "filtered_rows=arr[rows_sum==specific_sum]\n",
        "print(filtered_rows)"
      ],
      "metadata": {
        "colab": {
          "base_uri": "https://localhost:8080/"
        },
        "id": "PM_lq50HYijJ",
        "outputId": "847302a1-9c60-40df-fffe-c412362f7273"
      },
      "execution_count": null,
      "outputs": [
        {
          "output_type": "stream",
          "name": "stdout",
          "text": [
            "[[1 2 3]\n",
            " [4 1 1]\n",
            " [2 2 2]\n",
            " [3 3 0]]\n"
          ]
        }
      ]
    },
    {
      "cell_type": "code",
      "source": [],
      "metadata": {
        "id": "J5MeHh7kbCFG"
      },
      "execution_count": null,
      "outputs": []
    }
  ]
}